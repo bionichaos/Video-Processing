{
 "cells": [
  {
   "cell_type": "code",
   "execution_count": null,
   "metadata": {},
   "outputs": [],
   "source": [
    "import os\n",
    "import soundfile as sf\n",
    "import numpy as np\n",
    "from moviepy.editor import VideoFileClip\n",
    "import librosa\n",
    "from tqdm.notebook import tqdm\n",
    "\n",
    "# Define the folder where the video is located\n",
    "folder_path = \"C:\\\\Users\\\\RTX\\\\Videos\"\n",
    "\n",
    "# Specify the video file name\n",
    "video_file_name = \"2023-07-20 15-59-52.mp4\"\n",
    "\n",
    "# Construct the full path to the video file\n",
    "video_path = os.path.join(folder_path, video_file_name)"
   ]
  },
  {
   "cell_type": "code",
   "execution_count": null,
   "metadata": {},
   "outputs": [],
   "source": [
    "# Extract audio from video and convert to mono\n",
    "video_clip = VideoFileClip(video_path)  # Process the entire video\n",
    "sampling_rate = video_clip.audio.fps  # Get the original audio sampling rate\n",
    "audio = video_clip.audio.to_soundarray(fps=sampling_rate)\n",
    "audio_mono = np.mean(audio, axis=1)\n",
    "\n",
    "# Save mono audio to file\n",
    "audio_file_path = os.path.join(folder_path, 'audio_mono.wav')  # path to save the extracted audio\n",
    "sf.write(audio_file_path, audio_mono, sampling_rate)\n",
    "\n",
    "# Define the chunk size (1 second of audio)\n",
    "chunk_size = 1 * sampling_rate  # 1 second at original sampling rate\n",
    "\n",
    "# Initialize variables\n",
    "clip_num = 1  # number of the current clip\n",
    "start_time = 0  # start time of the current clip\n",
    "clip_started = False\n",
    "\n",
    "# Create a new directory for the clips\n",
    "new_folder_path = os.path.join(folder_path, os.path.splitext(video_file_name)[0])\n",
    "if not os.path.exists(new_folder_path):\n",
    "    os.makedirs(new_folder_path)"
   ]
  },
  {
   "cell_type": "code",
   "execution_count": null,
   "metadata": {},
   "outputs": [],
   "source": [
    "# Process the audio in chunks\n",
    "with sf.SoundFile(audio_file_path) as audio_file:\n",
    "    for i, chunk in enumerate(tqdm(audio_file.blocks(blocksize=chunk_size, dtype='float32'), total=audio_file.frames // chunk_size)):\n",
    "        volume = np.mean(librosa.feature.rms(y=chunk))\n",
    "        if volume >= 0.01:  # check if the volume is above the threshold\n",
    "            if not clip_started:\n",
    "                start_time = i * chunk_size / sampling_rate  # start time of the current clip\n",
    "                clip_started = True\n",
    "        elif clip_started:  # volume is below the threshold and a clip has started\n",
    "            end_time = i * chunk_size / sampling_rate  # end time of the current clip\n",
    "            # Extract the clip and write it to a file\n",
    "            clip = video_clip.subclip(start_time, end_time)\n",
    "            clip.write_videofile(f\"{new_folder_path}/clip_{clip_num}.mp4\", audio_codec='aac', audio_bitrate='96k')\n",
    "            clip_num += 1\n",
    "            clip_started = False\n",
    "\n",
    "# Handle the last clip\n",
    "if clip_started:\n",
    "    clip = video_clip.subclip(start_time, len(video_clip))\n",
    "    clip.write_videofile(f\"{new_folder_path}/clip_{clip_num}.mp4\", audio_codec='aac', audio_bitrate='96k')\n"
   ]
  }
 ],
 "metadata": {
  "kernelspec": {
   "display_name": "Python 3",
   "language": "python",
   "name": "python3"
  },
  "language_info": {
   "codemirror_mode": {
    "name": "ipython",
    "version": 3
   },
   "file_extension": ".py",
   "mimetype": "text/x-python",
   "name": "python",
   "nbconvert_exporter": "python",
   "pygments_lexer": "ipython3",
   "version": "3.11.1"
  },
  "orig_nbformat": 4
 },
 "nbformat": 4,
 "nbformat_minor": 2
}
